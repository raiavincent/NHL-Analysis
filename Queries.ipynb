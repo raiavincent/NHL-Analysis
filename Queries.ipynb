{
 "cells": [
  {
   "cell_type": "code",
   "execution_count": 1,
   "metadata": {},
   "outputs": [],
   "source": [
    "# query data"
   ]
  },
  {
   "cell_type": "code",
   "execution_count": 2,
   "metadata": {},
   "outputs": [],
   "source": [
    "import gspread\n",
    "import pandas as pd"
   ]
  },
  {
   "cell_type": "code",
   "execution_count": 3,
   "metadata": {},
   "outputs": [],
   "source": [
    "gc = gspread.service_account()"
   ]
  },
  {
   "cell_type": "code",
   "execution_count": 5,
   "metadata": {},
   "outputs": [],
   "source": [
    "sheet = gc.open_by_key('1C3_gG_oGbtZobrdnm2nh00wxeeeQ1FXCTJypkw8uNx0')"
   ]
  },
  {
   "cell_type": "code",
   "execution_count": 7,
   "metadata": {},
   "outputs": [],
   "source": [
    "data = sheet.get_worksheet(1)"
   ]
  },
  {
   "cell_type": "code",
   "execution_count": 10,
   "metadata": {},
   "outputs": [],
   "source": [
    "df = pd.DataFrame(data.get_all_records())"
   ]
  },
  {
   "cell_type": "code",
   "execution_count": 11,
   "metadata": {},
   "outputs": [
    {
     "data": {
      "text/plain": [
       "<bound method NDFrame.head of                 name adjusted_assists adjusted_goals  \\\n",
       "0      Sebastian Aho              202            171   \n",
       "1          Jake Bean               17              2   \n",
       "2        Jesper Fast               99             60   \n",
       "3     Warren Foegele               43             44   \n",
       "4      Jake Gardiner              216             50   \n",
       "..               ...              ...            ...   \n",
       "977    Riley Sheahan               65             43   \n",
       "978     Jeff Skinner              197            237   \n",
       "979    Tage Thompson               14             20   \n",
       "980  Dustin Tokarski                                   \n",
       "981    Linus Ullmark                                   \n",
       "\n",
       "    adjusted_goals_against_average adjusted_goals_created adjusted_points age  \\\n",
       "0                                                     148             373       \n",
       "1                                                       6              19       \n",
       "2                                                      60             159       \n",
       "3                                                      36              87       \n",
       "4                                                      86             266       \n",
       "..                             ...                    ...             ...  ..   \n",
       "977                                                    41             108       \n",
       "978                                                   183             434       \n",
       "979                                                    15              34       \n",
       "980                           3.23                                              \n",
       "981                           3.04                                              \n",
       "\n",
       "     assists average_time_on_ice blocks_at_even_strength  ...  \\\n",
       "0        175               18:41                     110  ...   \n",
       "1         11               14:16                      21  ...   \n",
       "2         92               14:37                     278  ...   \n",
       "3         33               13:20                      49  ...   \n",
       "4        200               21:21                     592  ...   \n",
       "..       ...                 ...                     ...  ...   \n",
       "977       60               14:39                     119  ...   \n",
       "978      175               17:06                     143  ...   \n",
       "979       11               12:43                      17  ...   \n",
       "980        1                                              ...   \n",
       "981        1                                              ...   \n",
       "\n",
       "    team_abbreviation ties_plus_overtime_loss time_on_ice  \\\n",
       "0                                                    6838   \n",
       "1                                                     628   \n",
       "2                                                    6167   \n",
       "3                                                    2668   \n",
       "4                                                   11765   \n",
       "..                ...                     ...         ...   \n",
       "977                                                  4279   \n",
       "978                                                  9903   \n",
       "979                                                  1323   \n",
       "980                                         4               \n",
       "981                                        13               \n",
       "\n",
       "    time_on_ice_even_strength total_goals_against_on_ice  \\\n",
       "0                      5498.1                        298   \n",
       "1                       575.6                         19   \n",
       "2                        5343                        322   \n",
       "3                      2414.2                        125   \n",
       "4                      1371.4                        468   \n",
       "..                        ...                        ...   \n",
       "977                    3517.4                        193   \n",
       "978                    2788.4                        470   \n",
       "979                    1215.3                         61   \n",
       "980                                                        \n",
       "981                                                        \n",
       "\n",
       "    total_goals_for_on_ice total_shots weight wins    year  \n",
       "0                      452        1802    173       Career  \n",
       "1                       22         118    189       Career  \n",
       "2                      242         731    191       Career  \n",
       "3                      102         568    198       Career  \n",
       "4                      579        1960    195       Career  \n",
       "..                     ...         ...    ...  ...     ...  \n",
       "977                    181         740    204       Career  \n",
       "978                    522        3400    200       Career  \n",
       "979                     38         353    205       Career  \n",
       "980                                       204    9  Career  \n",
       "981                                       221   50  Career  \n",
       "\n",
       "[982 rows x 91 columns]>"
      ]
     },
     "execution_count": 11,
     "metadata": {},
     "output_type": "execute_result"
    }
   ],
   "source": [
    "df.head"
   ]
  },
  {
   "cell_type": "code",
   "execution_count": 13,
   "metadata": {},
   "outputs": [
    {
     "name": "stdout",
     "output_type": "stream",
     "text": [
      "Collecting ipython-sql\n",
      "  Downloading ipython_sql-0.4.0-py3-none-any.whl (19 kB)\n",
      "Requirement already satisfied: ipython>=1.0 in c:\\users\\vincent\\anaconda3\\lib\\site-packages (from ipython-sql) (7.19.0)\n",
      "Collecting sqlparse\n",
      "  Downloading sqlparse-0.4.1-py3-none-any.whl (42 kB)\n",
      "Requirement already satisfied: six in c:\\users\\vincent\\appdata\\roaming\\python\\python38\\site-packages (from ipython-sql) (1.13.0)\n",
      "Requirement already satisfied: ipython-genutils>=0.1.0 in c:\\users\\vincent\\anaconda3\\lib\\site-packages (from ipython-sql) (0.2.0)\n",
      "Collecting prettytable<1\n",
      "  Downloading prettytable-0.7.2.tar.bz2 (21 kB)\n",
      "Requirement already satisfied: sqlalchemy>=0.6.7 in c:\\users\\vincent\\anaconda3\\lib\\site-packages (from ipython-sql) (1.3.20)\n",
      "Requirement already satisfied: setuptools>=18.5 in c:\\users\\vincent\\anaconda3\\lib\\site-packages (from ipython>=1.0->ipython-sql) (50.3.1.post20201107)\n",
      "Requirement already satisfied: pygments in c:\\users\\vincent\\anaconda3\\lib\\site-packages (from ipython>=1.0->ipython-sql) (2.7.2)\n",
      "Requirement already satisfied: pickleshare in c:\\users\\vincent\\anaconda3\\lib\\site-packages (from ipython>=1.0->ipython-sql) (0.7.5)\n",
      "Requirement already satisfied: backcall in c:\\users\\vincent\\anaconda3\\lib\\site-packages (from ipython>=1.0->ipython-sql) (0.2.0)\n",
      "Requirement already satisfied: traitlets>=4.2 in c:\\users\\vincent\\anaconda3\\lib\\site-packages (from ipython>=1.0->ipython-sql) (5.0.5)\n",
      "Requirement already satisfied: decorator in c:\\users\\vincent\\anaconda3\\lib\\site-packages (from ipython>=1.0->ipython-sql) (4.4.2)\n",
      "Requirement already satisfied: colorama; sys_platform == \"win32\" in c:\\users\\vincent\\appdata\\roaming\\python\\python38\\site-packages (from ipython>=1.0->ipython-sql) (0.4.3)\n",
      "Requirement already satisfied: prompt-toolkit!=3.0.0,!=3.0.1,<3.1.0,>=2.0.0 in c:\\users\\vincent\\anaconda3\\lib\\site-packages (from ipython>=1.0->ipython-sql) (3.0.8)\n",
      "Requirement already satisfied: jedi>=0.10 in c:\\users\\vincent\\anaconda3\\lib\\site-packages (from ipython>=1.0->ipython-sql) (0.17.2)\n",
      "Requirement already satisfied: wcwidth in c:\\users\\vincent\\anaconda3\\lib\\site-packages (from prompt-toolkit!=3.0.0,!=3.0.1,<3.1.0,>=2.0.0->ipython>=1.0->ipython-sql) (0.2.5)\n",
      "Requirement already satisfied: parso<0.8.0,>=0.7.0 in c:\\users\\vincent\\anaconda3\\lib\\site-packages (from jedi>=0.10->ipython>=1.0->ipython-sql) (0.7.0)\n",
      "Building wheels for collected packages: prettytable\n",
      "  Building wheel for prettytable (setup.py): started\n",
      "  Building wheel for prettytable (setup.py): finished with status 'done'\n",
      "  Created wheel for prettytable: filename=prettytable-0.7.2-py3-none-any.whl size=13705 sha256=8d0fcf04cea9bd3783a3723ccb4fb5a139e5f94cd7f3df9946683c27d79bf623\n",
      "  Stored in directory: c:\\users\\vincent\\appdata\\local\\pip\\cache\\wheels\\46\\60\\6c\\bb25d05df22906786206e901e9354bb3061061191116768bee\n",
      "Successfully built prettytable\n",
      "Installing collected packages: sqlparse, prettytable, ipython-sql\n",
      "Successfully installed ipython-sql-0.4.0 prettytable-0.7.2 sqlparse-0.4.1\n"
     ]
    }
   ],
   "source": [
    "!pip install ipython-sql"
   ]
  },
  {
   "cell_type": "code",
   "execution_count": 14,
   "metadata": {},
   "outputs": [],
   "source": [
    "%load_ext sql"
   ]
  },
  {
   "cell_type": "code",
   "execution_count": 15,
   "metadata": {},
   "outputs": [],
   "source": [
    "%sql sqlite://"
   ]
  },
  {
   "cell_type": "code",
   "execution_count": 19,
   "metadata": {},
   "outputs": [
    {
     "name": "stdout",
     "output_type": "stream",
     "text": [
      " * sqlite://\n",
      "(sqlite3.OperationalError) no such table: df\n",
      "[SQL: select * from df limit 5]\n",
      "(Background on this error at: http://sqlalche.me/e/13/e3q8)\n"
     ]
    }
   ],
   "source": [
    "%%sql\n",
    "\n",
    "select * from df limit 5"
   ]
  },
  {
   "cell_type": "code",
   "execution_count": null,
   "metadata": {},
   "outputs": [],
   "source": []
  }
 ],
 "metadata": {
  "kernelspec": {
   "display_name": "Python 3",
   "language": "python",
   "name": "python3"
  },
  "language_info": {
   "codemirror_mode": {
    "name": "ipython",
    "version": 3
   },
   "file_extension": ".py",
   "mimetype": "text/x-python",
   "name": "python",
   "nbconvert_exporter": "python",
   "pygments_lexer": "ipython3",
   "version": "3.8.5"
  }
 },
 "nbformat": 4,
 "nbformat_minor": 4
}
